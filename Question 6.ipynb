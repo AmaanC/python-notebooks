{
 "cells": [
  {
   "cell_type": "markdown",
   "metadata": {},
   "source": [
    "#The problem\n",
    "\n",
    "**Question:** Find how many numbers exist such that the number is at most 16 digits, and has *at least* 4 prime factors, where the primes are less than 100.\n",
    "\n",
    "So let's think about that. Here are some things to keep in mind:\n",
    "\n",
    "- We have to find **how many** numbers like that there are, not the numbers themselves. Computing the numbers themselves will be too computationally expensive.\n",
    "- For a number to be at most 16 digits, it has to be less than `10**16`.\n",
    "- If we have a number which has 4 prime factors, then multiples of that number will also have the same factors. (This is simply a property of factoring. If 2 is a factor of 4, it is also a factor of all the multiples of 4, namely: 4, 8, 12, 16...)\n",
    "\n",
    "Let's write some setup code."
   ]
  },
  {
   "cell_type": "code",
   "execution_count": 1,
   "metadata": {
    "collapsed": true
   },
   "outputs": [],
   "source": [
    "import math\n",
    "import itertools\n",
    "\n",
    "count = 0\n",
    "limit = 10**16 - 1 # No qualifying number should be above this limit\n",
    "prime_limit = 100 # No prime factor should be above this limit\n",
    "primes = [] # Used to store all the primes smaller than the limit\n",
    "\n",
    "def is_prime(n):\n",
    "    if n <= 1:\n",
    "        return False\n",
    "    for i in range(2, int(math.sqrt(n)) + 1):\n",
    "       if n % i == 0:\n",
    "         return False\n",
    "    return True\n",
    "\n",
    "\n",
    "def get_primes(p_limit):\n",
    "    for i in range(2, p_limit):\n",
    "       if is_prime(i):\n",
    "         primes.append(i) # add it to the global list we have\n",
    "\n",
    "def lcm(a, b):\n",
    "    small = min(a, b)\n",
    "    # We start at the smaller number, and take steps of that size since the LCM has to be a multiple of this number\n",
    "    # Given that, we know that the biggest LCM we can find is simply a * b, which is why that is the\n",
    "    # end of the range\n",
    "    for i in range(small, a * b + 1, small):\n",
    "       if i % b == 0 and i % a == 0:\n",
    "         return i\n"
   ]
  },
  {
   "cell_type": "markdown",
   "metadata": {},
   "source": [
    "Given that code, which should be fairly simple to understand, let's just test it and make sure we get values that we expect out of it"
   ]
  },
  {
   "cell_type": "code",
   "execution_count": 2,
   "metadata": {
    "collapsed": false
   },
   "outputs": [],
   "source": [
    "assert is_prime(5)\n",
    "assert is_prime(101)\n",
    "assert is_prime(1200) == False\n",
    "assert is_prime(1) == False\n",
    "\n",
    "assert lcm(3, 6) == 6\n",
    "assert lcm(3, 4) == 12\n",
    "assert lcm(5, 7) == 35\n",
    "assert lcm(6, 9) == 18"
   ]
  },
  {
   "cell_type": "markdown",
   "metadata": {},
   "source": [
    "Alright, our basic helper functions work. Let's try to figure the problem out now. The key thing to understand is that if a `N` number has `a, b, c, d` as prime factors, then `2 * N` will also have the same primes as factors. So will `3 * N`. We can follow the pattern to get as many numbers as we want which have `a, b, c, d` as prime factors.\n",
    "\n",
    "However, we have a condition to satisfy. These numbers cannot be more than 16 digits. So we need to know how many multiples of `N` there are, that are less than `limit`. If you think about this hard enough, you'll see that the answer is simply `limit // N` where `//` represents integer division.\n",
    "\n",
    "For example, how many multiples of 4 are there below 10?"
   ]
  },
  {
   "cell_type": "code",
   "execution_count": 3,
   "metadata": {
    "collapsed": false
   },
   "outputs": [
    {
     "data": {
      "text/plain": [
       "2"
      ]
     },
     "execution_count": 3,
     "metadata": {},
     "output_type": "execute_result"
    }
   ],
   "source": [
    "10 // 4 # Gives 2, because the list is: 4, 8"
   ]
  },
  {
   "cell_type": "markdown",
   "metadata": {},
   "source": [
    "There is a problem, here. The following code should illustrate that:"
   ]
  },
  {
   "cell_type": "code",
   "execution_count": 4,
   "metadata": {
    "collapsed": false
   },
   "outputs": [
    {
     "data": {
      "text/plain": [
       "3"
      ]
     },
     "execution_count": 4,
     "metadata": {},
     "output_type": "execute_result"
    }
   ],
   "source": [
    "12 // 4"
   ]
  },
  {
   "cell_type": "markdown",
   "metadata": {},
   "source": [
    "That gives us 3, which means we're finding how many multiples of 4 there are that are less than *or equal* to 12. Fixing it is simple. We just run `11 // 4` instead. You'll note that this is why we used `limit = 10**16 - 1` in our starter code.\n",
    "\n",
    "Anyway, let's get back to the problem. Given `N`, we can find how many multiples of N there are under the limit. Using this fact, we can simply find all the possible `N`'s we can form with our primes, and then we can just add `limit // current_N` to the count. Let's get around to doing that.\n",
    "\n",
    "First, we'll get our list of primes."
   ]
  },
  {
   "cell_type": "code",
   "execution_count": 9,
   "metadata": {
    "collapsed": false
   },
   "outputs": [
    {
     "name": "stdout",
     "output_type": "stream",
     "text": [
      "[2, 3, 5, 7, 11, 13, 17, 19, 23, 29, 31, 37, 41, 43, 47, 53, 59, 61, 67, 71, 73, 79, 83, 89, 97, 2, 3, 5, 7, 11, 13, 17, 19, 23, 29, 31, 37, 41, 43, 47, 53, 59, 61, 67, 71, 73, 79, 83, 89, 97]\n"
     ]
    }
   ],
   "source": [
    "get_primes(prime_limit)\n",
    "print(primes)"
   ]
  },
  {
   "cell_type": "markdown",
   "metadata": {},
   "source": [
    "Let's see how we can use `itertools.combinations` to create unique combinations of sequences. The following line of code *chooses* 2 elements out of the list `[1, 2, 3]` to create the appropriate unique combinations."
   ]
  },
  {
   "cell_type": "code",
   "execution_count": 10,
   "metadata": {
    "collapsed": false
   },
   "outputs": [
    {
     "name": "stdout",
     "output_type": "stream",
     "text": [
      "[(1, 2), (1, 3), (2, 3)]\n"
     ]
    }
   ],
   "source": [
    "print(list(itertools.combinations([1,2,3], 2)))"
   ]
  },
  {
   "cell_type": "markdown",
   "metadata": {},
   "source": [
    "Similarly, we can create a list of all the possible ways there are to combine 4 primes. For example:"
   ]
  },
  {
   "cell_type": "code",
   "execution_count": 12,
   "metadata": {
    "collapsed": false
   },
   "outputs": [
    {
     "name": "stdout",
     "output_type": "stream",
     "text": [
      "[(3, 5), (3, 7), (3, 11), (5, 7), (5, 11), (7, 11)]\n"
     ]
    }
   ],
   "source": [
    "print(list(itertools.combinations([3, 5, 7, 11], 2)))"
   ]
  },
  {
   "cell_type": "markdown",
   "metadata": {},
   "source": [
    "If we multiply the elements of each tuple in the list above, we'll get a list of numbers which have 2 prime factors. This will be the list of `N`s that we required. Let's write code to do that."
   ]
  },
  {
   "cell_type": "code",
   "execution_count": 17,
   "metadata": {
    "collapsed": false
   },
   "outputs": [
    {
     "name": "stdout",
     "output_type": "stream",
     "text": [
      "91948057480907778\n"
     ]
    }
   ],
   "source": [
    "prime_combinations = itertools.combinations(primes, 4)\n",
    "prime_multiples = [a * b * c * d for (a, b, c, d) in prime_combinations]\n",
    "\n",
    "for N in prime_multiples:\n",
    "    count = count + limit // N\n",
    "\n",
    "print(count)"
   ]
  },
  {
   "cell_type": "markdown",
   "metadata": {},
   "source": [
    "Right now, `count` feels like an arbitrary number, and it may seem like we're done. However, there is more! We need to consider all the different N that have some common multiples.\n",
    "\n",
    "For example, if one `N` is 5, we count all of its multiples: 5, 10, **15**, 20...\n",
    "\n",
    "If another `N` is 3, we count: 3, 6, 9, 12, **15**, 18...\n",
    "\n",
    "This means that we're overcounting certain numbers, since they're multiples of different N. *And we're overcounting the multiples of these certain numbers too.* In this example, the number 30 is also counted in both lists. So is 45. This means that we need to find a list of the least common multiples between various `N` and we need to subtract them and their multiples from our `count`.\n",
    "\n"
   ]
  }
 ],
 "metadata": {
  "kernelspec": {
   "display_name": "Python 3",
   "language": "python",
   "name": "python3"
  },
  "language_info": {
   "codemirror_mode": {
    "name": "ipython",
    "version": 3
   },
   "file_extension": ".py",
   "mimetype": "text/x-python",
   "name": "python",
   "nbconvert_exporter": "python",
   "pygments_lexer": "ipython3",
   "version": "3.4.0"
  }
 },
 "nbformat": 4,
 "nbformat_minor": 0
}
