{
 "cells": [
  {
   "cell_type": "markdown",
   "metadata": {},
   "source": [
    "#The problem\n",
    "\n",
    "**Question:** Find how many numbers exist such that the number is at most 16 digits, and has *at least* 4 distinct prime factors, where the primes are less than 100.\n",
    "\n",
    "**Disclaimer:** Since uploading this, I have realized that my solution is incomplete. It is headed in the correct direction, but I don't fully apply the inclusion-exclusion principle as I should. I'll fix that when I get the time.\n",
    "\n",
    "So let's think about that. Here are some things to keep in mind:\n",
    "\n",
    "- We have to find **how many** numbers like that there are, not the numbers themselves. Computing the numbers themselves will be too computationally expensive.\n",
    "- For a number to be at most 16 digits, it has to be less than `10**16`.\n",
    "- If we have a number which has 4 prime factors, then multiples of that number will also have the same factors. (This is simply a property of factoring. If 2 is a factor of 4, it is also a factor of all the multiples of 4, namely: 4, 8, 12, 16...)\n",
    "\n",
    "Let's write some setup code."
   ]
  },
  {
   "cell_type": "code",
   "execution_count": 1,
   "metadata": {
    "collapsed": true
   },
   "outputs": [],
   "source": [
    "import math\n",
    "import itertools\n",
    "\n",
    "count = 0\n",
    "limit = 10**16 - 1 # No qualifying number should be above this limit\n",
    "prime_limit = 100 # No prime factor should be above this limit\n",
    "primes = [] # Used to store all the primes smaller than the limit\n",
    "\n",
    "def is_prime(n):\n",
    "    if n <= 1:\n",
    "        return False\n",
    "    for i in range(2, int(math.sqrt(n)) + 1):\n",
    "       if n % i == 0:\n",
    "         return False\n",
    "    return True\n",
    "\n",
    "\n",
    "def get_primes(p_limit):\n",
    "    for i in range(2, p_limit):\n",
    "       if is_prime(i):\n",
    "         primes.append(i) # add it to the global list we have\n",
    "\n",
    "def lcm(a, b):\n",
    "    small = min(a, b)\n",
    "    # We start at the smaller number, and take steps of that size since the LCM has to be a multiple of this number\n",
    "    # Given that, we know that the biggest LCM we can find is simply a * b, which is why that is the\n",
    "    # end of the range\n",
    "    for i in range(small, a * b + 1, small):\n",
    "       if i % b == 0 and i % a == 0:\n",
    "         return i\n"
   ]
  },
  {
   "cell_type": "markdown",
   "metadata": {},
   "source": [
    "Given that code, which should be fairly simple to understand, let's just test it and make sure we get values that we expect out of it"
   ]
  },
  {
   "cell_type": "code",
   "execution_count": 2,
   "metadata": {
    "collapsed": false
   },
   "outputs": [],
   "source": [
    "assert is_prime(5)\n",
    "assert is_prime(101)\n",
    "assert is_prime(1200) == False\n",
    "assert is_prime(1) == False\n",
    "\n",
    "assert lcm(3, 6) == 6\n",
    "assert lcm(3, 4) == 12\n",
    "assert lcm(5, 7) == 35\n",
    "assert lcm(6, 9) == 18"
   ]
  },
  {
   "cell_type": "markdown",
   "metadata": {},
   "source": [
    "Alright, our basic helper functions work. Let's try to figure the problem out now. The key thing to understand is that if a `N` number has `a, b, c, d` as prime factors, then `2 * N` will also have the same primes as factors. So will `3 * N`. We can follow the pattern to get as many numbers as we want which have `a, b, c, d` as prime factors.\n",
    "\n",
    "However, we have a condition to satisfy. These numbers cannot be more than 16 digits. So we need to know how many multiples of `N` there are, that are less than `limit`. If you think about this hard enough, you'll see that the answer is simply `limit // N` where `//` represents integer division.\n",
    "\n",
    "For example, how many multiples of 4 are there below 10?"
   ]
  },
  {
   "cell_type": "code",
   "execution_count": 3,
   "metadata": {
    "collapsed": false
   },
   "outputs": [
    {
     "data": {
      "text/plain": [
       "2"
      ]
     },
     "execution_count": 3,
     "metadata": {},
     "output_type": "execute_result"
    }
   ],
   "source": [
    "10 // 4 # Gives 2, because the list is: 4, 8"
   ]
  },
  {
   "cell_type": "markdown",
   "metadata": {},
   "source": [
    "There is a problem, here. The following code should illustrate that:"
   ]
  },
  {
   "cell_type": "code",
   "execution_count": 4,
   "metadata": {
    "collapsed": false
   },
   "outputs": [
    {
     "data": {
      "text/plain": [
       "3"
      ]
     },
     "execution_count": 4,
     "metadata": {},
     "output_type": "execute_result"
    }
   ],
   "source": [
    "12 // 4"
   ]
  },
  {
   "cell_type": "markdown",
   "metadata": {},
   "source": [
    "That gives us 3, which means we're finding how many multiples of 4 there are that are less than *or equal* to 12. Fixing it is simple. We just run `11 // 4` instead. You'll note that this is why we used `limit = 10**16 - 1` in our starter code.\n",
    "\n",
    "Anyway, let's get back to the problem. Given `N`, we can find how many multiples of N there are under the limit. Using this fact, we can simply find all the possible `N`'s we can form with our primes, and then we can just add `limit // current_N` to the count. Let's get around to doing that.\n",
    "\n",
    "First, we'll get our list of primes."
   ]
  },
  {
   "cell_type": "code",
   "execution_count": 5,
   "metadata": {
    "collapsed": false
   },
   "outputs": [
    {
     "name": "stdout",
     "output_type": "stream",
     "text": [
      "[2, 3, 5, 7, 11, 13, 17, 19, 23, 29, 31, 37, 41, 43, 47, 53, 59, 61, 67, 71, 73, 79, 83, 89, 97]\n"
     ]
    }
   ],
   "source": [
    "get_primes(prime_limit)\n",
    "print(primes)"
   ]
  },
  {
   "cell_type": "markdown",
   "metadata": {},
   "source": [
    "Let's see how we can use `itertools.combinations` to create unique combinations of sequences. The following line of code *chooses* 2 elements out of the list `[1, 2, 3]` to create the appropriate unique combinations."
   ]
  },
  {
   "cell_type": "code",
   "execution_count": 6,
   "metadata": {
    "collapsed": false
   },
   "outputs": [
    {
     "name": "stdout",
     "output_type": "stream",
     "text": [
      "[(1, 2), (1, 3), (2, 3)]\n"
     ]
    }
   ],
   "source": [
    "print(list(itertools.combinations([1,2,3], 2)))"
   ]
  },
  {
   "cell_type": "markdown",
   "metadata": {},
   "source": [
    "Similarly, we can create a list of all the possible ways there are to combine 4 primes. For example:"
   ]
  },
  {
   "cell_type": "code",
   "execution_count": 7,
   "metadata": {
    "collapsed": false
   },
   "outputs": [
    {
     "name": "stdout",
     "output_type": "stream",
     "text": [
      "[(3, 5), (3, 7), (3, 11), (5, 7), (5, 11), (7, 11)]\n"
     ]
    }
   ],
   "source": [
    "print(list(itertools.combinations([3, 5, 7, 11], 2)))"
   ]
  },
  {
   "cell_type": "markdown",
   "metadata": {},
   "source": [
    "If we multiply the elements of each tuple in the list above, we'll get a list of numbers which have 2 prime factors. This will be the list of `N`s that we required. Let's write code to do that."
   ]
  },
  {
   "cell_type": "code",
   "execution_count": 8,
   "metadata": {
    "collapsed": false
   },
   "outputs": [
    {
     "name": "stdout",
     "output_type": "stream",
     "text": [
      "1852825865389314\n"
     ]
    }
   ],
   "source": [
    "prime_combinations = itertools.combinations(primes, 4)\n",
    "prime_multiples = [a * b * c * d for (a, b, c, d) in prime_combinations]\n",
    "\n",
    "for N in prime_multiples:\n",
    "    count = count + limit // N\n",
    "\n",
    "print(count)"
   ]
  },
  {
   "cell_type": "markdown",
   "metadata": {},
   "source": [
    "Right now, `count` feels like an arbitrary number, and it may seem like we're done. However, there is more! We need to consider all the different N that have some common multiples.\n",
    "\n",
    "For example, if one `N` is 5, we count all of its multiples: 5, 10, **15**, 20...\n",
    "\n",
    "If another `N` is 3, we count: 3, 6, 9, 12, **15**, 18...\n",
    "\n",
    "This means that we're overcounting certain numbers, since they're multiples of different N. *And we're overcounting the multiples of these certain numbers too.* In this example, the number 30 is also counted in both lists. So is 45. This means that we need to find a list of the least common multiples between various `N` and we need to subtract them and their multiples from our `count`.\n",
    "\n",
    "Computing all the LCMs for so many numbers however is going to be very computationally expensive again. A naive approach I tried ran for 30 mins straight without yielding any answer at all. So I started looking for patterns, and I found one.\n",
    "\n",
    "It seems like the LCMs of all the combinations of prime multiples formed by choosing 4 primes out of 5 are the same. That sentence is a bit dense, so let's unpack it.\n",
    "\n",
    "You have 5 primes as follows, and you create all the possible prime multiples you can by choosing 4 out of the 5."
   ]
  },
  {
   "cell_type": "code",
   "execution_count": 9,
   "metadata": {
    "collapsed": false
   },
   "outputs": [
    {
     "name": "stdout",
     "output_type": "stream",
     "text": [
      "[1155, 1365, 2145, 3003, 5005]\n"
     ]
    }
   ],
   "source": [
    "# Try messing with this list. Note that the prime_multiple_lcms list contains the exact same numbers\n",
    "# for any 5 primes in the list below. If you change one of the numbers to a composite, the list\n",
    "# contains more than one distinct LCM.\n",
    "prime_test = [3, 5, 7, 11, 13]\n",
    "prime_test_multiples = [a * b * c * d for a, b, c, d in itertools.combinations(prime_test, 4)]\n",
    "print(prime_test_multiples)"
   ]
  },
  {
   "cell_type": "markdown",
   "metadata": {},
   "source": [
    "Now you have 5 multiples. Let's see what the LCMs are between any combination of these numbers:"
   ]
  },
  {
   "cell_type": "code",
   "execution_count": 10,
   "metadata": {
    "collapsed": false
   },
   "outputs": [
    {
     "name": "stdout",
     "output_type": "stream",
     "text": [
      "[15015, 15015, 15015, 15015, 15015, 15015, 15015, 15015, 15015, 15015]\n"
     ]
    }
   ],
   "source": [
    "prime_multiple_lcms = [lcm(a, b) for a, b in itertools.combinations(prime_test_multiples, 2)]\n",
    "print(prime_multiple_lcms)"
   ]
  },
  {
   "cell_type": "markdown",
   "metadata": {},
   "source": [
    "What this seems to imply is that our prime multiple lists look something like this:\n",
    "\n",
    "    1155, 2310...15015...30030...\n",
    "    1365, 2730...15015...30030...\n",
    "    2145, 4290...15015...30030...\n",
    "    ...\n",
    "    ...\n",
    "\n",
    "That means that this specific LCM (15015) and all of its multiples under `limit` are being counted **5** times, once in each list of prime multiples. We need to count it only once, so we can simply subtract this LCM from our count **4** times, and our problem will be done.\n",
    "\n",
    "To proceed, we need to think about how we can get all of these LCMs. One way I can think of is to get all the unique 5-length combinations of primes, and then to find the LCMs for those combinations.\n",
    "\n",
    "Here's some code that does that:"
   ]
  },
  {
   "cell_type": "code",
   "execution_count": 11,
   "metadata": {
    "collapsed": false
   },
   "outputs": [],
   "source": [
    "prime_common_combination = itertools.combinations(primes, 5)"
   ]
  },
  {
   "cell_type": "markdown",
   "metadata": {},
   "source": [
    "We have all the 5-length combinations of primes that we need. We need to just calculate the LCM which they all share. Let's do that:"
   ]
  },
  {
   "cell_type": "code",
   "execution_count": 12,
   "metadata": {
    "collapsed": true
   },
   "outputs": [],
   "source": [
    "lcm_to_remove = []\n",
    "# For every combination of 5 primes\n",
    "for a, b, c, d, e in prime_common_combination:\n",
    "    # Add the LCM of of any 2 different prime multiples\n",
    "    lcm_to_remove.append(lcm(a * b * c * d, a * b * c * e))"
   ]
  },
  {
   "cell_type": "markdown",
   "metadata": {},
   "source": [
    "Nearly there!\n",
    "\n",
    "Remember that every LCM was counted 5 times. To count it once, we need to remove it 4 times. This applies to all the multiples of this LCM too. To see how many multiples of the LCM there are, we can use the same trick as before."
   ]
  },
  {
   "cell_type": "code",
   "execution_count": 13,
   "metadata": {
    "collapsed": false
   },
   "outputs": [
    {
     "name": "stdout",
     "output_type": "stream",
     "text": [
      "313785311322006\n"
     ]
    }
   ],
   "source": [
    "for cur_lcm in lcm_to_remove:\n",
    "    count = count - (4 * (limit // cur_lcm))\n",
    "print(count)"
   ]
  },
  {
   "cell_type": "markdown",
   "metadata": {},
   "source": [
    "And I think that is it! Sadly, I can't know for sure, since I only have the question, not the answer.\n",
    "\n",
    "##Concerns\n",
    "Some people said that I failed to account for the part of the question that mentioned that we're counting numbers with **at least** 4 primes. It may seem that way, however this solution does account for all numbers with more than 4 prime factors.\n",
    "\n",
    "For example, let's say we have this number: `N = 2*3*5*7*11*13*17`\n",
    "This number has 7 prime factors. In our solution, one of the prime multiples is `X = 2*3*5*7`. We count all the multiples of `X` under `limit`. *All* multiples. `X * 11*13*17` is also a multiple of `X`, which means that we've already accounted for that.\n",
    "\n",
    "##Contact\n",
    "If you think I made a mistake somewhere, feel free to [email me](mailto:amaan.cheval@gmail.com) or [tweet at me](https://twitter.com/AmaanC)."
   ]
  }
 ],
 "metadata": {
  "kernelspec": {
   "display_name": "Python 3",
   "language": "python",
   "name": "python3"
  },
  "language_info": {
   "codemirror_mode": {
    "name": "ipython",
    "version": 3
   },
   "file_extension": ".py",
   "mimetype": "text/x-python",
   "name": "python",
   "nbconvert_exporter": "python",
   "pygments_lexer": "ipython3",
   "version": "3.4.0"
  }
 },
 "nbformat": 4,
 "nbformat_minor": 0
}
